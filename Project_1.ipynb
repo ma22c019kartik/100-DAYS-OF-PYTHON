{
  "nbformat": 4,
  "nbformat_minor": 0,
  "metadata": {
    "colab": {
      "provenance": []
    },
    "kernelspec": {
      "name": "python3",
      "display_name": "Python 3"
    },
    "language_info": {
      "name": "python"
    }
  },
  "cells": [
    {
      "cell_type": "markdown",
      "source": [
        "**Band Name Generator**: A program to generate a name for your band by only knowing your city and your pet's name."
      ],
      "metadata": {
        "id": "1P2B48aVYx3g"
      }
    },
    {
      "cell_type": "code",
      "source": [
        "#Creating a greeting for the program.\n",
        "print('Hi! Welcome to Your Band Name Generator')"
      ],
      "metadata": {
        "colab": {
          "base_uri": "https://localhost:8080/"
        },
        "id": "UDRgMAS4ZhFU",
        "outputId": "8c66e071-6e73-4d87-f692-f18cf430d534"
      },
      "execution_count": 5,
      "outputs": [
        {
          "output_type": "stream",
          "name": "stdout",
          "text": [
            "Hi! Welcome to Your Band Name Generator\n"
          ]
        }
      ]
    },
    {
      "cell_type": "code",
      "source": [
        "#Asking the user for the city that he/she grew up in.\n",
        "city = input('Which city do you grew up in?\\n')"
      ],
      "metadata": {
        "colab": {
          "base_uri": "https://localhost:8080/"
        },
        "id": "LQYvrBZ3Zwbi",
        "outputId": "175cd73c-4028-434c-9171-7921536d3fcd"
      },
      "execution_count": 6,
      "outputs": [
        {
          "name": "stdout",
          "output_type": "stream",
          "text": [
            "Which city do you grew up in?\n",
            "Caltech\n"
          ]
        }
      ]
    },
    {
      "cell_type": "code",
      "source": [
        "#Asking user's pet name.\n",
        "pet_name = input('What is name of your pet?\\n')"
      ],
      "metadata": {
        "colab": {
          "base_uri": "https://localhost:8080/"
        },
        "id": "hrtYPBebZ85T",
        "outputId": "e8a6ac96-a9ec-4b0c-e2d1-eca27b4a8980"
      },
      "execution_count": 7,
      "outputs": [
        {
          "name": "stdout",
          "output_type": "stream",
          "text": [
            "What is name of your pet?\n",
            "Bunny\n"
          ]
        }
      ]
    },
    {
      "cell_type": "code",
      "source": [
        "#4. Combine the name of the city and the pet's. Finally, showing his/her band name.\n",
        "print('The name of your band is:' + city + ' ' + pet_name)"
      ],
      "metadata": {
        "colab": {
          "base_uri": "https://localhost:8080/"
        },
        "id": "qGobjY_maLPN",
        "outputId": "4dc7a7c1-9082-4a50-db61-ad4a9ec5dcea"
      },
      "execution_count": 8,
      "outputs": [
        {
          "output_type": "stream",
          "name": "stdout",
          "text": [
            "The name of your band is:Caltech Bunny\n"
          ]
        }
      ]
    }
  ]
}