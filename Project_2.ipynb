{
  "nbformat": 4,
  "nbformat_minor": 0,
  "metadata": {
    "colab": {
      "provenance": []
    },
    "kernelspec": {
      "name": "python3",
      "display_name": "Python 3"
    },
    "language_info": {
      "name": "python"
    }
  },
  "cells": [
    {
      "cell_type": "markdown",
      "source": [
        "**Tip Calculator:** Creating a calculator that calculates the bill that we have to pay after the tip that has been given to the waiter and splitting the bill into your friends."
      ],
      "metadata": {
        "id": "CHhynHvtbjZb"
      }
    },
    {
      "cell_type": "code",
      "source": [
        "#Greeting the user.\n",
        "print(\"Welcome to the tip calculator!\")"
      ],
      "metadata": {
        "colab": {
          "base_uri": "https://localhost:8080/"
        },
        "id": "4nVzWiUedRI7",
        "outputId": "a9cf40a6-d23a-41a9-8352-33a0e5a973e6"
      },
      "execution_count": 1,
      "outputs": [
        {
          "output_type": "stream",
          "name": "stdout",
          "text": [
            "Welcome to the tip calculator!\n"
          ]
        }
      ]
    },
    {
      "cell_type": "code",
      "source": [
        "#Asking the user for the total bill that has to pay.\n",
        "total_bill = float(input(\"What was the total bill? $\"))"
      ],
      "metadata": {
        "colab": {
          "base_uri": "https://localhost:8080/"
        },
        "id": "bfGuWEK2djeS",
        "outputId": "bad3da33-21a2-4ebe-ac4f-820b98ae0d8b"
      },
      "execution_count": 2,
      "outputs": [
        {
          "name": "stdout",
          "output_type": "stream",
          "text": [
            "What was the total bill? $138.95\n"
          ]
        }
      ]
    },
    {
      "cell_type": "code",
      "source": [
        "#Asking the user for the tip(in %) to be given to the waiter.\n",
        "tip_in_percent = int(input(\"How much tip would you like to give? 10, 12, or 15? \"))"
      ],
      "metadata": {
        "colab": {
          "base_uri": "https://localhost:8080/"
        },
        "id": "rnalNnCReDny",
        "outputId": "b9e8f8f9-2896-4e43-d412-5ab3d85e3b14"
      },
      "execution_count": 3,
      "outputs": [
        {
          "name": "stdout",
          "output_type": "stream",
          "text": [
            "How much tip would you like to give? 10, 12, or 15? 12\n"
          ]
        }
      ]
    },
    {
      "cell_type": "code",
      "source": [
        "#Asking the user in how many people he wants to split the bill.\n",
        "people = int(input(\"How many people to split the bill? \"))"
      ],
      "metadata": {
        "colab": {
          "base_uri": "https://localhost:8080/"
        },
        "id": "gniLNlJXebbg",
        "outputId": "bc46e8be-9b2d-4856-cd96-1f7a7e0fa019"
      },
      "execution_count": 4,
      "outputs": [
        {
          "name": "stdout",
          "output_type": "stream",
          "text": [
            "How many people to split the bill? 5\n"
          ]
        }
      ]
    },
    {
      "cell_type": "code",
      "source": [
        "# Bill after tip.\n",
        "actual_tip = total_bill*(tip_in_percent/100)\n",
        "final_bill = total_bill + actual_tip"
      ],
      "metadata": {
        "id": "xmfCA7xcetb0"
      },
      "execution_count": 5,
      "outputs": []
    },
    {
      "cell_type": "code",
      "source": [
        "#Payment amount after splitting into people rounding to 2 decimal places.\n",
        "payment_amount = round(final_bill/people,2)"
      ],
      "metadata": {
        "id": "3J4R5ZLMe63j"
      },
      "execution_count": 7,
      "outputs": []
    },
    {
      "cell_type": "code",
      "source": [
        "#Final amount to be paid.\n",
        "print(f\"Each person should pay: ${payment_amount}\")"
      ],
      "metadata": {
        "colab": {
          "base_uri": "https://localhost:8080/"
        },
        "id": "ejmpJgLofNhR",
        "outputId": "26b6159c-aca0-45bf-9a63-6f2af566ead8"
      },
      "execution_count": 8,
      "outputs": [
        {
          "output_type": "stream",
          "name": "stdout",
          "text": [
            "Each person should pay: $31.12\n"
          ]
        }
      ]
    }
  ]
}