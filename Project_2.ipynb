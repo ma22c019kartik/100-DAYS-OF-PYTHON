{
  "nbformat": 4,
  "nbformat_minor": 0,
  "metadata": {
    "colab": {
      "provenance": []
    },
    "kernelspec": {
      "name": "python3",
      "display_name": "Python 3"
    },
    "language_info": {
      "name": "python"
    }
  },
  "cells": [
    {
      "cell_type": "markdown",
      "source": [
        "**Tip Calculator:** Creating a calculator that calculates the bill that we have to pay after the tip that has been given to the waiter and splitting the bill into your friends."
      ],
      "metadata": {
        "id": "CHhynHvtbjZb"
      }
    },
    {
      "cell_type": "code",
      "source": [
        "#Greeting the user.\n",
        "print(\"Welcome to the tip calculator!\")"
      ],
      "metadata": {
        "colab": {
          "base_uri": "https://localhost:8080/"
        },
        "id": "4nVzWiUedRI7",
        "outputId": "ca5ab03f-b47e-4542-e72e-7432571e7d15"
      },
      "execution_count": 9,
      "outputs": [
        {
          "output_type": "stream",
          "name": "stdout",
          "text": [
            "Welcome to the tip calculator!\n"
          ]
        }
      ]
    },
    {
      "cell_type": "code",
      "source": [
        "#Asking the user for the total bill that has to pay.\n",
        "total_bill = float(input(\"What was the total bill? $\"))"
      ],
      "metadata": {
        "colab": {
          "base_uri": "https://localhost:8080/"
        },
        "id": "bfGuWEK2djeS",
        "outputId": "2ea8ed15-703d-41d0-b246-d6e5bde55ccb"
      },
      "execution_count": 10,
      "outputs": [
        {
          "name": "stdout",
          "output_type": "stream",
          "text": [
            "What was the total bill? $120\n"
          ]
        }
      ]
    },
    {
      "cell_type": "code",
      "source": [
        "#Asking the user for the tip(in %) to be given to the waiter.\n",
        "tip_in_percent = int(input(\"How much tip would you like to give? 10, 12, or 15? \"))"
      ],
      "metadata": {
        "colab": {
          "base_uri": "https://localhost:8080/"
        },
        "id": "rnalNnCReDny",
        "outputId": "bbe13acc-4cbf-4805-ac5f-e546daccc5dd"
      },
      "execution_count": 11,
      "outputs": [
        {
          "name": "stdout",
          "output_type": "stream",
          "text": [
            "How much tip would you like to give? 10, 12, or 15? 10\n"
          ]
        }
      ]
    },
    {
      "cell_type": "code",
      "source": [
        "#Asking the user in how many people he wants to split the bill.\n",
        "people = int(input(\"How many people to split the bill? \"))"
      ],
      "metadata": {
        "colab": {
          "base_uri": "https://localhost:8080/"
        },
        "id": "gniLNlJXebbg",
        "outputId": "8dc405b7-52d5-484a-9926-d1cfcc3d8b7a"
      },
      "execution_count": 12,
      "outputs": [
        {
          "name": "stdout",
          "output_type": "stream",
          "text": [
            "How many people to split the bill? 5\n"
          ]
        }
      ]
    },
    {
      "cell_type": "code",
      "source": [
        "# Bill after tip.\n",
        "actual_tip = total_bill*(tip_in_percent/100)\n",
        "final_bill = total_bill + actual_tip"
      ],
      "metadata": {
        "id": "xmfCA7xcetb0"
      },
      "execution_count": 13,
      "outputs": []
    },
    {
      "cell_type": "code",
      "source": [
        "#Payment amount after splitting into people rounding to 2 decimal places.\n",
        "payment_amount = round(final_bill/people,2)\n",
        "payment_amount = \"{:.2f}\".format(payment_amount)"
      ],
      "metadata": {
        "id": "3J4R5ZLMe63j"
      },
      "execution_count": 14,
      "outputs": []
    },
    {
      "cell_type": "code",
      "source": [
        "#Final amount to be paid.\n",
        "print(f\"Each person should pay: ${payment_amount}\")"
      ],
      "metadata": {
        "colab": {
          "base_uri": "https://localhost:8080/"
        },
        "id": "ejmpJgLofNhR",
        "outputId": "c9a7cce8-6e8c-49ff-c937-945ee5e9697e"
      },
      "execution_count": 15,
      "outputs": [
        {
          "output_type": "stream",
          "name": "stdout",
          "text": [
            "Each person should pay: $26.40\n"
          ]
        }
      ]
    }
  ]
}